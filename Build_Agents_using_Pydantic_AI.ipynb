{
  "cells": [
    {
      "cell_type": "code",
      "execution_count": 1,
      "metadata": {
        "id": "UNH3hOBeg-6o"
      },
      "outputs": [
        {
          "name": "stderr",
          "output_type": "stream",
          "text": [
            "\n",
            "[notice] A new release of pip available: 22.3.1 -> 25.0.1\n",
            "[notice] To update, run: python.exe -m pip install --upgrade pip\n"
          ]
        }
      ],
      "source": [
        "!pip install pydantic-ai==0.1.3 pydantic-ai-slim[tavily]==0.1.3 -q"
      ]
    },
    {
      "cell_type": "code",
      "execution_count": 2,
      "metadata": {
        "id": "fmpaLmVTj3W5"
      },
      "outputs": [],
      "source": [
        "import nest_asyncio\n",
        "\n",
        "nest_asyncio.apply()"
      ]
    },
    {
      "cell_type": "code",
      "execution_count": 3,
      "metadata": {
        "id": "LCFbKWu7k0Yf"
      },
      "outputs": [],
      "source": [
        "import os\n",
        "\n",
        "from pydantic_ai.agent import Agent\n",
        "from pydantic_ai.common_tools.tavily import tavily_search_tool"
      ]
    },
    {
      "cell_type": "code",
      "execution_count": null,
      "metadata": {},
      "outputs": [],
      "source": [
        "from dotenv import load_dotenv\n",
        "load_dotenv()"
      ]
    },
    {
      "cell_type": "code",
      "execution_count": 4,
      "metadata": {
        "id": "QofhBUfKlAl_"
      },
      "outputs": [],
      "source": [
        "# setup Groq API Key\n",
        "os.environ[\"GROQ_API_KEY\"] = os.getenv(\"GROQ_API_KEY\")"
      ]
    },
    {
      "cell_type": "code",
      "execution_count": 5,
      "metadata": {
        "id": "SLCBg_CNlDkl"
      },
      "outputs": [],
      "source": [
        "# Tavily API key\n",
        "TAVILY_API_KEY = os.getenv(\"TAVILY_API_KEY\")"
      ]
    },
    {
      "cell_type": "code",
      "execution_count": 6,
      "metadata": {
        "id": "_gPBzOyxlH5z"
      },
      "outputs": [],
      "source": [
        "agent = Agent(\n",
        "    'groq:llama-3.1-8b-instant',\n",
        "    tools=[tavily_search_tool(TAVILY_API_KEY)],\n",
        "    system_prompt='Search Tavily for the given query and return the results.',\n",
        ")"
      ]
    },
    {
      "cell_type": "code",
      "execution_count": 7,
      "metadata": {
        "colab": {
          "base_uri": "https://localhost:8080/"
        },
        "id": "acdxxvLqlXGt",
        "outputId": "4e5e0235-77d3-4c4f-a15f-f716f4de6c14"
      },
      "outputs": [
        {
          "name": "stdout",
          "output_type": "stream",
          "text": [
            "Based on the search results, it appears that there are several recent developments in the GenAI world. Some of the top news stories include:\n",
            "\n",
            "* Assort Health raising $26M for its specialty-specific GenAI platform for managing patient phone calls.\n",
            "* Bloomberg launching AI-Powered Document Insights, an innovative tool leveraging Gen AI to help research analysts and corporate executives extract information from company documents through natural language queries.\n",
            "* OpenAI reaching roughly 800 million users, according to Sam Altman.\n",
            "* Apple planning to tap user data for LLM training.\n",
            "* Organizations found to address only 21% of GenAI-related flaws, according to a new study by Pentesting-as-a-Service (PTaaS) firm Cobalt.\n",
            "\n",
            "These stories suggest that GenAI is being increasingly used in a variety of applications, including healthcare, finance, and data analysis. However, there are also concerns about the security vulnerabilities associated with GenAI, and the need for organizations to address these issues.\n"
          ]
        }
      ],
      "source": [
        "result = agent.run_sync('Tell me the top news in the GenAI world recently.')\n",
        "print(result.output)"
      ]
    },
    {
      "cell_type": "code",
      "execution_count": null,
      "metadata": {
        "id": "EEAYivxBlcNb"
      },
      "outputs": [],
      "source": []
    }
  ],
  "metadata": {
    "colab": {
      "provenance": []
    },
    "kernelspec": {
      "display_name": "venv",
      "language": "python",
      "name": "python3"
    },
    "language_info": {
      "codemirror_mode": {
        "name": "ipython",
        "version": 3
      },
      "file_extension": ".py",
      "mimetype": "text/x-python",
      "name": "python",
      "nbconvert_exporter": "python",
      "pygments_lexer": "ipython3",
      "version": "3.11.1"
    }
  },
  "nbformat": 4,
  "nbformat_minor": 0
}
